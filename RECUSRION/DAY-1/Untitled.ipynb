{
 "cells": [
  {
   "cell_type": "markdown",
   "metadata": {},
   "source": [
    "# Nth Fibonacci"
   ]
  },
  {
   "cell_type": "code",
   "execution_count": 1,
   "metadata": {},
   "outputs": [],
   "source": [
    "def nthfibonnaci(n):\n",
    "    first=0\n",
    "    second=1\n",
    "    nth=0\n",
    "    for i in range (2,n+1):\n",
    "        nth=first+second\n",
    "        first=second\n",
    "        second=nth\n",
    "    return nth"
   ]
  },
  {
   "cell_type": "code",
   "execution_count": 2,
   "metadata": {},
   "outputs": [],
   "source": [
    "def recnthfibonnaci(n):\n",
    "    if(n<0):\n",
    "        return 0\n",
    "    elif(n==0):\n",
    "        return 0\n",
    "    elif(n==1):\n",
    "        return 1\n",
    "    else:\n",
    "        return recnthfibonnaci(n-1)+recnthfibonnaci(n-2)"
   ]
  },
  {
   "cell_type": "code",
   "execution_count": null,
   "metadata": {},
   "outputs": [],
   "source": [
    "nth=int(input(\"Enter the value of n:\"))\n",
    "ins=nth\n",
    "if(nth<0):\n",
    "    print(\"Invalid input\")\n",
    "elif(nth==0):\n",
    "    print(0)\n",
    "elif(nth==1):\n",
    "    print(1)\n",
    "else:\n",
    "    nth=nthfibonnaci(ins)\n",
    "    nthrec=recnthfibonnaci(ins)\n",
    "    print(nth)\n",
    "    print(nthrec)\n"
   ]
  },
  {
   "cell_type": "markdown",
   "metadata": {},
   "source": [
    "# QUESTION 2"
   ]
  },
  {
   "cell_type": "code",
   "execution_count": null,
   "metadata": {},
   "outputs": [],
   "source": [
    "def productsum(l,multiply=1):\n",
    "    sum=0\n",
    "    for i in l:\n",
    "        if isinstance(i, list)==True:\n",
    "            sum=sum+productsum(i,multiply+1)\n",
    "        else:\n",
    "            sum=sum+int(i)\n",
    "    return sum*multiply"
   ]
  },
  {
   "cell_type": "code",
   "execution_count": null,
   "metadata": {},
   "outputs": [],
   "source": [
    "l=[5,2,[7,-1],3,[6,[-13,8],4]]\n",
    "sum2=productsum(l)\n",
    "print(sum2)"
   ]
  },
  {
   "cell_type": "markdown",
   "metadata": {},
   "source": [
    "# Question-3 "
   ]
  },
  {
   "cell_type": "code",
   "execution_count": null,
   "metadata": {},
   "outputs": [],
   "source": [
    "def powerset(a,l,r):\n",
    "    if l==r:\n",
    "        print(a,end=\" \")\n",
    "    else:\n",
    "        for i in range(l,r):\n",
    "            a[i],a[l]=a[l],a[i]\n",
    "            powerset(a,l+1,r)\n",
    "            a[i],a[l]=a[l],a[i]\n",
    "\n",
    "\n",
    "def permutatepre(a):\n",
    "    import itertools\n",
    "    perm = list(itertools.permutations(a))\n",
    "    return list(perm)\n"
   ]
  },
  {
   "cell_type": "code",
   "execution_count": null,
   "metadata": {},
   "outputs": [],
   "source": [
    "def recurperm(a,size):\n",
    "    if size == 0:\n",
    "        print([])\n",
    "    if size == 1:      \n",
    "        print([a],end=\" \")\n",
    "        return\n",
    " \n",
    "    for i in range(size):\n",
    "        recurperm(a, size-1)\n",
    "        if size & 1:\n",
    "            a[0], a[size-1] = a[size-1], a[0]\n",
    "        else:\n",
    "            a[i], a[size-1] = a[size-1], a[i]\n",
    "        \n",
    "        "
   ]
  },
  {
   "cell_type": "code",
   "execution_count": null,
   "metadata": {},
   "outputs": [],
   "source": [
    "x = (input(\"Enter inputs: \").split())\n",
    "a=[]\n",
    "x = list(set(x))\n",
    "for i in x:\n",
    "    a.append(int(i))\n",
    "perm=permutatepre(a)\n",
    "print(\"From predefined {}\".format(perm))\n",
    "print(\"From recursive function\" ,end=\" \")\n",
    "recurperm(a,len(a))"
   ]
  },
  {
   "cell_type": "code",
   "execution_count": null,
   "metadata": {},
   "outputs": [],
   "source": []
  }
 ],
 "metadata": {
  "kernelspec": {
   "display_name": "Python 3",
   "language": "python",
   "name": "python3"
  },
  "language_info": {
   "codemirror_mode": {
    "name": "ipython",
    "version": 3
   },
   "file_extension": ".py",
   "mimetype": "text/x-python",
   "name": "python",
   "nbconvert_exporter": "python",
   "pygments_lexer": "ipython3",
   "version": "3.7.6"
  }
 },
 "nbformat": 4,
 "nbformat_minor": 4
}
